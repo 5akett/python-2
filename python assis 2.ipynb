{
 "cells": [
  {
   "cell_type": "code",
   "execution_count": 1,
   "id": "99ddf949-e11f-4889-bb6d-476f35488a25",
   "metadata": {},
   "outputs": [
    {
     "name": "stdin",
     "output_type": "stream",
     "text": [
      "Enter percentage:  25\n"
     ]
    },
    {
     "name": "stdout",
     "output_type": "stream",
     "text": [
      "Grade: D\n"
     ]
    }
   ],
   "source": [
    "#1\n",
    "def calculate_grade(percentage):\n",
    "    if percentage >= 90:\n",
    "        return 'A'\n",
    "    elif percentage >= 80:\n",
    "        return 'B'\n",
    "    elif percentage >= 60:\n",
    "        return 'C'\n",
    "    else:\n",
    "        return 'D'\n",
    "\n",
    "def main():\n",
    "    try:\n",
    "        percentage = float(input(\"Enter percentage: \"))\n",
    "        if percentage < 0 or percentage > 100:\n",
    "            print(\"Percentage should be between 0 and 100.\")\n",
    "        else:\n",
    "            grade = calculate_grade(percentage)\n",
    "            print(f\"Grade: {grade}\")\n",
    "    except ValueError:\n",
    "        print(\"Invalid input. Please enter a valid percentage.\")\n",
    "\n",
    "if __name__ == \"__main__\":\n",
    "    main()\n"
   ]
  },
  {
   "cell_type": "code",
   "execution_count": 2,
   "id": "e940cee3-7b69-479a-a9fe-48665cce90f9",
   "metadata": {},
   "outputs": [
    {
     "name": "stdin",
     "output_type": "stream",
     "text": [
      "Enter the cost price of the bike:  55\n"
     ]
    },
    {
     "name": "stdout",
     "output_type": "stream",
     "text": [
      "Road tax: $2.75\n"
     ]
    }
   ],
   "source": [
    "#2\n",
    "def calculate_road_tax(cost_price):\n",
    "    if cost_price > 100000:\n",
    "        return cost_price * 0.15\n",
    "    elif cost_price > 50000:\n",
    "        return cost_price * 0.10\n",
    "    else:\n",
    "        return cost_price * 0.05\n",
    "\n",
    "def main():\n",
    "    try:\n",
    "        cost_price = float(input(\"Enter the cost price of the bike: \"))\n",
    "        if cost_price < 0:\n",
    "            print(\"Cost price should be a positive number.\")\n",
    "        else:\n",
    "            road_tax = calculate_road_tax(cost_price)\n",
    "            print(f\"Road tax: ${road_tax:.2f}\")\n",
    "    except ValueError:\n",
    "        print(\"Invalid input. Please enter a valid cost price.\")\n",
    "\n",
    "if __name__ == \"__main__\":\n",
    "    main()\n",
    "\n"
   ]
  },
  {
   "cell_type": "code",
   "execution_count": 3,
   "id": "c6bf702f-fad1-4cc1-8664-dc078b43a059",
   "metadata": {},
   "outputs": [
    {
     "name": "stdin",
     "output_type": "stream",
     "text": [
      "Enter the name of the city:  agar\n"
     ]
    },
    {
     "name": "stdout",
     "output_type": "stream",
     "text": [
      "Sorry, the monument for this city is not available.\n"
     ]
    }
   ],
   "source": [
    "#3\n",
    "def display_monument(city):\n",
    "    monuments = {\n",
    "        \"delhi\": \"Red Fort\",\n",
    "        \"agra\": \"Taj Mahal\",\n",
    "        \"jaipur\": \"Jal Mahal\"\n",
    "    }\n",
    "    \n",
    "    if city.lower() in monuments:\n",
    "        print(f\"The monument in {city.title()} is {monuments[city.lower()]}.\")\n",
    "    else:\n",
    "        print(\"Sorry, the monument for this city is not available.\")\n",
    "\n",
    "def main():\n",
    "    city = input(\"Enter the name of the city: \")\n",
    "    display_monument(city)\n",
    "\n",
    "if __name__ == \"__main__\":\n",
    "    main()\n",
    "\n",
    "    "
   ]
  },
  {
   "cell_type": "code",
   "execution_count": 4,
   "id": "de10bc05-10db-4902-884a-925b5e326195",
   "metadata": {},
   "outputs": [
    {
     "name": "stdin",
     "output_type": "stream",
     "text": [
      "Enter a number:  34\n"
     ]
    },
    {
     "name": "stdout",
     "output_type": "stream",
     "text": [
      "The number 34 can be divided by 3 2 times before it becomes less than or equal to 10.\n"
     ]
    }
   ],
   "source": [
    "#4\n",
    "def divide_by_3_count(number):\n",
    "    count = 0\n",
    "    while number > 10:\n",
    "        number /= 3\n",
    "        count += 1\n",
    "    return count\n",
    "\n",
    "def main():\n",
    "    try:\n",
    "        number = int(input(\"Enter a number: \"))\n",
    "        if number <= 0:\n",
    "            print(\"Please enter a positive number greater than 0.\")\n",
    "        else:\n",
    "            count = divide_by_3_count(number)\n",
    "            print(f\"The number {number} can be divided by 3 {count} times before it becomes less than or equal to 10.\")\n",
    "    except ValueError:\n",
    "        print(\"Invalid input. Please enter a valid number.\")\n",
    "\n",
    "if __name__ == \"__main__\":\n",
    "    main()\n"
   ]
  },
  {
   "cell_type": "code",
   "execution_count": 5,
   "id": "0e25eb86-d663-40e1-9447-8470e08f71c7",
   "metadata": {},
   "outputs": [
    {
     "ename": "SyntaxError",
     "evalue": "unterminated string literal (detected at line 9) (3036960999.py, line 9)",
     "output_type": "error",
     "traceback": [
      "\u001b[0;36m  Cell \u001b[0;32mIn[5], line 9\u001b[0;36m\u001b[0m\n\u001b[0;31m    Performing Tasks with Unknown Number of Iterations: Use a while loop when you don't know in advance how many times you need to iterate. For example, you might use a while loop to read lines from a file until you reach the end of the file.\u001b[0m\n\u001b[0m                                                                                     ^\u001b[0m\n\u001b[0;31mSyntaxError\u001b[0m\u001b[0;31m:\u001b[0m unterminated string literal (detected at line 9)\n"
     ]
    }
   ],
   "source": [
    "#5A while loop in Python is used to repeatedly execute a block of code as long as a specified condition is true. It's useful when you want to perform a task repeatedly until a certain condition is met. Here are some common scenarios when you might use a while loop:\n",
    "\n",
    "Iterating Until a Condition is Met: Use a while loop when you want to execute a block of code repeatedly until a certain condition becomes false. For example, you might use a while loop to repeatedly prompt the user for input until they enter a valid value.\n",
    "\n",
    "Processing Items in a Collection: You can use a while loop to iterate over items in a collection (e.g., a list) while a certain condition is true. This is useful when you want to process items dynamically based on some condition.\n",
    "\n",
    "Implementing Infinite Loops: In some cases, you may need to create an infinite loop that continues executing indefinitely until you explicitly break out of it. This can be useful for tasks such as running a server, monitoring a system, or implementing game loops.\n",
    "\n",
    "Performing Tasks with Unknown Number of Iterations: Use a while loop when you don't know in advance how many times you need to iterate. For example, you might use a while loop to read lines from a file until you reach the end of the file."
   ]
  },
  {
   "cell_type": "code",
   "execution_count": 6,
   "id": "453fc894-ac56-48f9-aeaa-3347ae7a8649",
   "metadata": {},
   "outputs": [
    {
     "ename": "SyntaxError",
     "evalue": "invalid syntax (3777427119.py, line 3)",
     "output_type": "error",
     "traceback": [
      "\u001b[0;36m  Cell \u001b[0;32mIn[6], line 3\u001b[0;36m\u001b[0m\n\u001b[0;31m    Copy code\u001b[0m\n\u001b[0m         ^\u001b[0m\n\u001b[0;31mSyntaxError\u001b[0m\u001b[0;31m:\u001b[0m invalid syntax\n"
     ]
    }
   ],
   "source": [
    "#6Pattern 1: Printing a right-angled triangle\n",
    "python\n",
    "Copy code\n",
    "# Pattern 1: Right-angled triangle\n",
    "rows = 5\n",
    "i = 1\n",
    "while i <= rows:\n",
    "    j = 1\n",
    "    while j <= i:\n",
    "        print(\"*\", end=\" \")\n",
    "        j += 1\n",
    "    print()\n",
    "    i += 1\n",
    "Pattern 2: Printing a square\n",
    "python\n",
    "Copy code\n",
    "# Pattern 2: Square\n",
    "rows = 5\n",
    "i = 1\n",
    "while i <= rows:\n",
    "    j = 1\n",
    "    while j <= rows:\n",
    "        print(\"*\", end=\" \")\n",
    "        j += 1\n",
    "    print()\n",
    "    i += 1\n",
    "Pattern 3: Printing an inverted right-angled triangle\n",
    "python\n",
    "Copy code\n",
    "# Pattern 3: Inverted right-angled triangle\n",
    "rows = 5\n",
    "i = rows\n",
    "while i >= 1:\n",
    "    j = 1\n",
    "    while j <= i:\n",
    "        print(\"*\", end=\" \")\n",
    "        j += 1\n",
    "    print()\n",
    "    i -= 1"
   ]
  },
  {
   "cell_type": "code",
   "execution_count": null,
   "id": "ae3dbb3b-97e8-4f9a-ad31-b007bb5cfebf",
   "metadata": {},
   "outputs": [],
   "source": [
    "#7"
   ]
  }
 ],
 "metadata": {
  "kernelspec": {
   "display_name": "Python 3 (ipykernel)",
   "language": "python",
   "name": "python3"
  },
  "language_info": {
   "codemirror_mode": {
    "name": "ipython",
    "version": 3
   },
   "file_extension": ".py",
   "mimetype": "text/x-python",
   "name": "python",
   "nbconvert_exporter": "python",
   "pygments_lexer": "ipython3",
   "version": "3.10.8"
  }
 },
 "nbformat": 4,
 "nbformat_minor": 5
}
